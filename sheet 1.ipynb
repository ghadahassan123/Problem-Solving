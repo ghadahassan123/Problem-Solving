{
 "cells": [
  {
   "cell_type": "code",
   "execution_count": null,
   "metadata": {},
   "outputs": [],
   "source": [
    "# A\n",
    "\n",
    "w = int(input())\n",
    "if w % 2 == 1 or w < 4:\n",
    "    print(\"NO\")\n",
    "else:\n",
    "    print(\"YES\")"
   ]
  },
  {
   "cell_type": "code",
   "execution_count": null,
   "metadata": {},
   "outputs": [],
   "source": [
    "# B\n",
    "\n",
    "m,n=map(int,input().split())\n",
    "result=m*n\n",
    "print(result//2)"
   ]
  },
  {
   "cell_type": "code",
   "execution_count": null,
   "metadata": {},
   "outputs": [],
   "source": [
    "# C\n",
    "\n",
    "r=int(input())\n",
    "i=0\n",
    "x=[]\n",
    "y=[]\n",
    "# The append() method appends an element to the end of the list.\n",
    "while i<r:\n",
    "    x.append(int(input()))\n",
    "    if x[i]<=1399:\n",
    "        y.append(\"Division 4\")  \n",
    "    elif 1400<=x[i]<=1599:\n",
    "        y.append(\"Division 3\")\n",
    "    elif 1600<=x[i]<=1899:\n",
    "        y.append(\"Division 2\")\n",
    "    elif 1900<=x[i]:\n",
    "        y.append(\"Division 1\")\n",
    "    i+=1\n",
    "j=0\n",
    "while j<len(y):\n",
    "    print(y[j])\n",
    "    j+=1"
   ]
  },
  {
   "cell_type": "code",
   "execution_count": null,
   "metadata": {},
   "outputs": [],
   "source": [
    "# D\n",
    "\n",
    "def find_intersection(l1, r1, l2, r2):\n",
    "    # Check if there is an intersection\n",
    "    if l2 > r1 or l1 > r2:\n",
    "        return -1\n",
    "\n",
    "    # Find the boundaries of the intersection\n",
    "    intersection_left = max(l1, l2)\n",
    "    intersection_right = min(r1, r2)\n",
    "\n",
    "    return intersection_left, intersection_right\n",
    "\n",
    "# Read the input intervals\n",
    "l1, r1, l2, r2 = map(int, input().split())\n",
    "\n",
    "# Find the intersection\n",
    "result = find_intersection(l1, r1, l2, r2)\n",
    "\n",
    "# Print the result\n",
    "if result == -1:\n",
    "    print(-1)\n",
    "else:\n",
    "    print(result[0], result[1])"
   ]
  },
  {
   "cell_type": "code",
   "execution_count": null,
   "metadata": {},
   "outputs": [],
   "source": [
    "# E\n",
    "\n",
    "def x (a,b,c):\n",
    "    lengths=sorted([a,b,c])\n",
    "    if lengths[0]+lengths[1]>lengths[2]:\n",
    "        return 0\n",
    "    m=lengths[2]-(lengths[0]+lengths[1])+1 \n",
    "    return m\n",
    "a,b,c=map(int,input().split())\n",
    "result=x(a,b,c)\n",
    "print (result)"
   ]
  },
  {
   "cell_type": "code",
   "execution_count": null,
   "metadata": {},
   "outputs": [],
   "source": [
    "# F\n",
    "\n",
    "t = int(input())\n",
    "for i in range(t):\n",
    "    a, b, c, d = map(int, input().split())\n",
    "    max_distance = max(b, c, d)\n",
    "    if a >= max_distance:\n",
    "        print(0)\n",
    "    else:\n",
    "        num_in_front = sum(distance > a for distance in (b, c, d))\n",
    "        print(num_in_front)"
   ]
  },
  {
   "cell_type": "code",
   "execution_count": null,
   "metadata": {},
   "outputs": [],
   "source": [
    "# G\n",
    "\n",
    "t=int(input())\n",
    "p=0\n",
    "for i in range (t):\n",
    "    a,b,c=map(int,input().split())\n",
    "    if (a+b+c>=2):\n",
    "        p+=1\n",
    "print (p)"
   ]
  },
  {
   "cell_type": "code",
   "execution_count": null,
   "metadata": {},
   "outputs": [],
   "source": [
    "# H\n",
    "\n",
    "n = int(input())\n",
    "c = 1\n",
    "for i in range(1,11):\n",
    "    result = n*c\n",
    "    print(f\"{c} x {n} = {result}\")\n",
    "    c+=1"
   ]
  },
  {
   "cell_type": "code",
   "execution_count": null,
   "metadata": {},
   "outputs": [],
   "source": [
    "# I\n",
    "\n",
    "symbol = input()  # Read the symbol from the first line\n",
    "N = int(input())  # Read the number of elements from the second line\n",
    "numbers = list(map(int, input().split()))  # Read the list of numbers from the third line\n",
    "\n",
    "for i in numbers:\n",
    "    print(symbol * i)"
   ]
  },
  {
   "cell_type": "code",
   "execution_count": null,
   "metadata": {},
   "outputs": [],
   "source": [
    "# J\n",
    "\n",
    "def x(a,b,c):\n",
    "    num = sorted([a,b,c])\n",
    "    if num[0] + num[1] == num[2]:\n",
    "        return \"yes\"\n",
    "    else:\n",
    "        return \"no\"\n",
    "\n",
    "n = int(input())\n",
    "for i in range(n):\n",
    "    a, b, c = map(int, input().split())\n",
    "    result = x(a, b, c)\n",
    "    print(result)"
   ]
  },
  {
   "cell_type": "code",
   "execution_count": null,
   "metadata": {},
   "outputs": [],
   "source": [
    "# K\n",
    "\n",
    "n = int(input())\n",
    "\n",
    "for i in range(2, n+1):\n",
    "    if i % 13 == 0: \n",
    "        prime = True\n",
    "        for j in range(2, i):\n",
    "            if i % j == 0:\n",
    "                prime = False\n",
    "                break\n",
    "        if prime:\n",
    "            print(\"YES\")\n",
    "            break\n",
    "else:    \n",
    "    print(\"NO\")"
   ]
  },
  {
   "cell_type": "code",
   "execution_count": null,
   "metadata": {},
   "outputs": [],
   "source": [
    "# L\n",
    "\n",
    "def x(a,b,c):\n",
    "    result=sorted([a,b,c])\n",
    "    return result\n",
    "a,b,c= map(int,input().split())\n",
    "n= x(a,b,c)\n",
    "print (n[0],n[1],n[2])"
   ]
  },
  {
   "cell_type": "code",
   "execution_count": null,
   "metadata": {},
   "outputs": [],
   "source": [
    "# M\n",
    "\n",
    "n1,n2=map(int,input().split())  \n",
    "L1=n1%10\n",
    "L2=n2%10\n",
    "SUM=L1+L2\n",
    "print(SUM)"
   ]
  },
  {
   "cell_type": "code",
   "execution_count": null,
   "metadata": {},
   "outputs": [],
   "source": [
    "# N\n",
    "\n",
    "n1,n2=map(int,input().split()) \n",
    "for i in range(n2):\n",
    "    if n1%10==0:\n",
    "        n1//=10\n",
    "    else:\n",
    "        n1-=1\n",
    "print(n1)"
   ]
  },
  {
   "cell_type": "code",
   "execution_count": null,
   "metadata": {},
   "outputs": [],
   "source": [
    "# O\n",
    "\n",
    "n = int(input())\n",
    "characters = input()\n",
    "\n",
    "for char in characters:\n",
    "    if char.isdigit():\n",
    "        print(\"is digit\")\n",
    "    elif char.islower():\n",
    "        print(\"is lower\")\n",
    "    elif char.isupper():\n",
    "        print(\"is upper\")"
   ]
  },
  {
   "cell_type": "code",
   "execution_count": null,
   "metadata": {},
   "outputs": [],
   "source": [
    "# P\n",
    "\n",
    "t = int(input())\n",
    "\n",
    "for i in range(t):\n",
    "    c = input()\n",
    "    if c in 'codeforces':\n",
    "        print(\"YES\") \n",
    "    else:\n",
    "        print(\"NO\")"
   ]
  },
  {
   "cell_type": "code",
   "execution_count": null,
   "metadata": {},
   "outputs": [],
   "source": [
    "# Q\n",
    "\n",
    "num = int(input())\n",
    "for m in range(num):\n",
    "    a, b, c, d, e, f = input()\n",
    "    if (int(a) + int(b) + int(c)) == (int(d) + int(e) + int(f)):\n",
    "        print(\"YES\")\n",
    "    else:\n",
    "        print(\"NO\")"
   ]
  },
  {
   "cell_type": "code",
   "execution_count": null,
   "metadata": {},
   "outputs": [],
   "source": [
    "# R\n",
    "\n",
    "number = int(input())\n",
    "Sum = 0  \n",
    "for i in range(1, number+1):    \n",
    "    Sum+= i\n",
    "    \n",
    "print(Sum)"
   ]
  },
  {
   "cell_type": "code",
   "execution_count": null,
   "metadata": {},
   "outputs": [],
   "source": [
    "# S\n",
    "\n",
    "import math\n",
    "\n",
    "def is_prime(n):\n",
    "    if n < 2:\n",
    "        return False\n",
    "    if n == 2:\n",
    "        return True\n",
    "    if n % 2 == 0:\n",
    "        return False\n",
    "\n",
    "    sqrt_n = int(math.sqrt(n)) + 1\n",
    "    for i in range(3, sqrt_n, 2):\n",
    "        if n % i == 0:\n",
    "            return False\n",
    "\n",
    "    return True\n",
    "\n",
    "# Read the input number\n",
    "x = int(input())\n",
    "\n",
    "# Check if the number is prime\n",
    "if is_prime(x):\n",
    "    print(\"YES\")\n",
    "else:\n",
    "    print(\"NO\")"
   ]
  }
 ],
 "metadata": {
  "kernelspec": {
   "display_name": "Python 3",
   "language": "python",
   "name": "python3"
  },
  "language_info": {
   "codemirror_mode": {
    "name": "ipython",
    "version": 3
   },
   "file_extension": ".py",
   "mimetype": "text/x-python",
   "name": "python",
   "nbconvert_exporter": "python",
   "pygments_lexer": "ipython3",
   "version": "3.8.5"
  }
 },
 "nbformat": 4,
 "nbformat_minor": 4
}
