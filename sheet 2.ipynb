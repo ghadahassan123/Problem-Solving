{
 "cells": [
  {
   "cell_type": "code",
   "execution_count": null,
   "metadata": {},
   "outputs": [],
   "source": [
    "#                                   sheet 2"
   ]
  },
  {
   "cell_type": "code",
   "execution_count": 25,
   "metadata": {},
   "outputs": [],
   "source": [
    "# A\n",
    "\n",
    "n, k = map(int, input().split())\n",
    "scores = list(map(int, input().split()))\n",
    "\n",
    "k_score = scores[k-1]  # Score of the k-th place finisher\n",
    "advancing_count = 0\n",
    "\n",
    "for score in scores:\n",
    "    if score >= k_score and score > 0:\n",
    "        advancing_count += 1\n",
    "\n",
    "print(advancing_count)"
   ]
  },
  {
   "cell_type": "code",
   "execution_count": 26,
   "metadata": {},
   "outputs": [],
   "source": [
    "# B\n",
    "\n",
    "N, x = map(int, input().split())\n",
    "numbers = list(map(int, input().split()))\n",
    "\n",
    "found = False\n",
    "for i in range(N):\n",
    "    if numbers[i] == x:\n",
    "        print(i)\n",
    "        found = True\n",
    "        break\n",
    "\n",
    "if not found:\n",
    "    print(\"Not Found\")"
   ]
  },
  {
   "cell_type": "code",
   "execution_count": 27,
   "metadata": {},
   "outputs": [],
   "source": [
    "# c\n",
    "\n",
    "N = int(input())\n",
    "numbers = list(map(int, input().split()))\n",
    "\n",
    "for i in range(N):\n",
    "    if numbers[i] <= 10:\n",
    "        print(\"A[{}] = {}\".format(i, numbers[i]))"
   ]
  },
  {
   "cell_type": "code",
   "execution_count": 30,
   "metadata": {},
   "outputs": [],
   "source": [
    "# D\n",
    "\n",
    "N = int(input())\n",
    "numbers = list(map(int, input().split()))\n",
    "\n",
    "lowest_num=min(numbers)\n",
    "position=numbers.index(lowest_num)+1\n",
    "\n",
    "print(lowest_num,position)"
   ]
  },
  {
   "cell_type": "code",
   "execution_count": 31,
   "metadata": {},
   "outputs": [],
   "source": [
    "# E\n",
    "\n",
    "N = int(input())\n",
    "numbers = list(map(int, input().split()))\n",
    "\n",
    "# Ascending order\n",
    "ascending_order = sorted(numbers)\n",
    "print(*ascending_order)\n",
    "\n",
    "# Descending order\n",
    "descending_order = sorted(numbers, reverse=True)\n",
    "print(*descending_order)"
   ]
  },
  {
   "cell_type": "code",
   "execution_count": 32,
   "metadata": {},
   "outputs": [],
   "source": [
    "# F\n",
    "\n",
    "N = int(input())\n",
    "numbers = list(map(int, input().split()))\n",
    "\n",
    "# Sort the numbers in ascending order\n",
    "numbers.sort()\n",
    "\n",
    "# Split the numbers into two halves\n",
    "mid = N // 2\n",
    "first_half = numbers[:mid]\n",
    "second_half = numbers[mid:]\n",
    "\n",
    "# Print the smallest half in ascending order and mirrored\n",
    "print(*first_half, *reversed(first_half))\n",
    "\n",
    "# Print the biggest half in ascending order and mirrored\n",
    "print(*reversed(second_half),*second_half)"
   ]
  },
  {
   "cell_type": "code",
   "execution_count": 33,
   "metadata": {},
   "outputs": [],
   "source": [
    "# G\n",
    "\n",
    "def is_palindrome_array(N, A):\n",
    "    # Check if the array A is a palindrome\n",
    "    for i in range(N // 2):\n",
    "        if A[i] != A[N - i - 1]:\n",
    "            return \"NO\"\n",
    "    return \"YES\"\n",
    "\n",
    "# Read input\n",
    "N = int(input())\n",
    "A = list(map(int, input().split()))\n",
    "\n",
    "# Check if A is a palindrome array\n",
    "result = is_palindrome_array(N, A)\n",
    "\n",
    "# Print the result\n",
    "print(result)"
   ]
  },
  {
   "cell_type": "code",
   "execution_count": 35,
   "metadata": {},
   "outputs": [],
   "source": [
    "# H\n",
    "\n",
    "def swap_min_max(n, a):\n",
    "    if len(a) < 2:\n",
    "        return a \n",
    "    \n",
    "    min_index = 0\n",
    "    max_index = 0\n",
    "\n",
    "    \n",
    "    for i in range(1, n):\n",
    "        if a[i] < a[min_index]:\n",
    "            min_index = i\n",
    "        if a[i] > a[max_index]:\n",
    "            max_index = i\n",
    "\n",
    "    \n",
    "    a[min_index], a[max_index] = a[max_index], a[min_index]\n",
    "\n",
    "    return a\n",
    "\n",
    "\n",
    "n = int(input())\n",
    "array = list(map(int,input().split()))\n",
    "\n",
    "\n",
    "result = swap_min_max(n, array)\n",
    "print(*result)"
   ]
  },
  {
   "cell_type": "code",
   "execution_count": 36,
   "metadata": {},
   "outputs": [],
   "source": [
    "# I\n",
    "\n",
    "def fibonacci(n):\n",
    "    if n == 1:\n",
    "        return 0\n",
    "    elif n == 2:\n",
    "        return 1\n",
    "    else:\n",
    "        fib = [0, 1]\n",
    "        for i in range(2, n):\n",
    "            fib.append(fib[i - 1] + fib[i - 2])\n",
    "        return fib[n - 1]\n",
    "\n",
    "N = int(input())\n",
    "result = fibonacci(N)\n",
    "print(result)"
   ]
  },
  {
   "cell_type": "code",
   "execution_count": null,
   "metadata": {},
   "outputs": [],
   "source": [
    "# J"
   ]
  },
  {
   "cell_type": "code",
   "execution_count": null,
   "metadata": {},
   "outputs": [],
   "source": [
    "# K"
   ]
  },
  {
   "cell_type": "code",
   "execution_count": null,
   "metadata": {},
   "outputs": [],
   "source": [
    "# l\n",
    "\n",
    "n,h=map(int,input().split())\n",
    "hight=list(map(int,input().split()))\n",
    "count=0\n",
    "\n",
    "for i in hight:\n",
    "    if i==h or i<h:\n",
    "        count+=1\n",
    "    if i>h:\n",
    "        count+=2\n",
    "print(count)"
   ]
  },
  {
   "cell_type": "code",
   "execution_count": null,
   "metadata": {},
   "outputs": [],
   "source": [
    "# M\n",
    "\n",
    "num_cases = int(input())\n",
    "\n",
    "for case in range(num_cases):\n",
    "    num_participants = int(input())\n",
    "    strengths = list(map(int, input().split()))\n",
    "\n",
    "    differences = []\n",
    "\n",
    "    for i in range(num_participants):\n",
    "        max_other = max(strengths[:i] + strengths[i + 1:])\n",
    "        diff = strengths[i] - max_other\n",
    "        differences.append(diff)\n",
    "\n",
    "    print(' '.join(map(str, differences)))"
   ]
  },
  {
   "cell_type": "code",
   "execution_count": null,
   "metadata": {},
   "outputs": [],
   "source": [
    "# N\n",
    "\n",
    "# Read input values\n",
    "N, M = map(int, input().split())\n",
    "numbers = list(map(int, input().split()))\n",
    "\n",
    "# Initialize count array or dictionary\n",
    "count = [0] * (M + 1)\n",
    "\n",
    "# Count the occurrences of each number\n",
    "for num in numbers:\n",
    "    count[num] += 1\n",
    "\n",
    "# Print the count of each number\n",
    "for i in range(1, M + 1):\n",
    "    print(count[i])"
   ]
  },
  {
   "cell_type": "code",
   "execution_count": null,
   "metadata": {},
   "outputs": [],
   "source": [
    "# O\n",
    "\n",
    "# Read input values\n",
    "N, q = map(int, input().split())\n",
    "numbers = list(map(int, input().split()))\n",
    "\n",
    "# Process the queries\n",
    "for _ in range(q):\n",
    "    l, r, x = map(int, input().split())\n",
    "    count = 0\n",
    "    for i in range(l - 1, r):\n",
    "        if numbers[i] == x:\n",
    "            count += 1\n",
    "    print(count)"
   ]
  },
  {
   "cell_type": "code",
   "execution_count": null,
   "metadata": {},
   "outputs": [],
   "source": [
    "# P\n",
    "\n",
    "# Read the number of test cases\n",
    "t = int(input())\n",
    "\n",
    "# Process each test case\n",
    "for _ in range(t):\n",
    "    # Read the length of the array\n",
    "    n = int(input())\n",
    "\n",
    "    # Read the elements of the array\n",
    "    elements = list(map(int, input().split()))\n",
    "\n",
    "    # Initialize a dictionary to store the count of each element\n",
    "    count = {}\n",
    "\n",
    "    # Traverse the array and count the occurrences of each element\n",
    "    for element in elements:\n",
    "        count[element] = count.get(element, 0) + 1\n",
    "\n",
    "        # If an element appears at least three times, print it and break the loop\n",
    "        if count[element] >= 3:\n",
    "            print(element)\n",
    "            break\n",
    "\n",
    "    # If no element appears at least three times, print -1\n",
    "    else:\n",
    "        print(-1)"
   ]
  },
  {
   "cell_type": "code",
   "execution_count": null,
   "metadata": {},
   "outputs": [],
   "source": [
    "# Q\n",
    "\n",
    "n=int(input())\n",
    "nums=list(map(int,input().split()))\n",
    "c=int(input())\n",
    "for i in range(c):\n",
    "    l,r=map(int,input().split())\n",
    "    s=sum(nums[l-1:r])\n",
    "    print(s)"
   ]
  },
  {
   "cell_type": "code",
   "execution_count": null,
   "metadata": {},
   "outputs": [],
   "source": [
    "# R"
   ]
  },
  {
   "cell_type": "code",
   "execution_count": null,
   "metadata": {},
   "outputs": [],
   "source": [
    "# S"
   ]
  },
  {
   "cell_type": "code",
   "execution_count": null,
   "metadata": {},
   "outputs": [],
   "source": [
    "# T\n",
    "\n",
    "# Read the values of N and M\n",
    "N, M = map(int, input().split())\n",
    "\n",
    "# Read the 2D array\n",
    "A = [list(map(int, input().split())) for _ in range(N)]\n",
    "\n",
    "# Read the value of X\n",
    "X = int(input())\n",
    "\n",
    "# Check if X exists in the 2D array\n",
    "found = False\n",
    "for row in A:\n",
    "    if X in row:\n",
    "        found = True\n",
    "        break\n",
    "\n",
    "# Print the result\n",
    "if found:\n",
    "    print(\"YES\")\n",
    "else:\n",
    "    print(\"NO\")"
   ]
  },
  {
   "cell_type": "code",
   "execution_count": null,
   "metadata": {},
   "outputs": [],
   "source": [
    "# U\n",
    "\n",
    "N = int(input())\n",
    "A = [list(map(int, input().split())) for _ in range(N)]\n",
    "d1 = 0\n",
    "d2 = 0\n",
    "\n",
    "for i in range(N):\n",
    "    for j in range(N):\n",
    "        if A[i] == A[j]:\n",
    "            d1 += A[i][j]\n",
    "        if A[i] == A[N - 1 - j]:\n",
    "            d2 += A[i][j]\n",
    "\n",
    "print(abs(d1 - d2))"
   ]
  },
  {
   "cell_type": "code",
   "execution_count": null,
   "metadata": {},
   "outputs": [],
   "source": [
    "# V"
   ]
  },
  {
   "cell_type": "code",
   "execution_count": null,
   "metadata": {},
   "outputs": [],
   "source": [
    "# W\n",
    "\n",
    "n = int(input())\n",
    "\n",
    "table = [[1] * n for _ in range(n)]\n",
    "\n",
    "for i in range(1, n):\n",
    "    for j in range(1, n):\n",
    "        table[i][j] = table[i-1][j] + table[i][j-1]\n",
    "\n",
    "max_value = table[n-1][n-1]\n",
    "print(max_value)"
   ]
  }
 ],
 "metadata": {
  "kernelspec": {
   "display_name": "Python 3",
   "language": "python",
   "name": "python3"
  },
  "language_info": {
   "codemirror_mode": {
    "name": "ipython",
    "version": 3
   },
   "file_extension": ".py",
   "mimetype": "text/x-python",
   "name": "python",
   "nbconvert_exporter": "python",
   "pygments_lexer": "ipython3",
   "version": "3.8.5"
  }
 },
 "nbformat": 4,
 "nbformat_minor": 4
}
